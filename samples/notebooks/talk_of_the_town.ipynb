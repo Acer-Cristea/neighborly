{
 "cells": [
  {
   "cell_type": "markdown",
   "id": "1b489cf8",
   "metadata": {},
   "source": [
    "# Sample Simulation: Talk of the Town\n",
    "\n",
    "This notebook contains a reimplementation of the Talk of the town simulation in Neighborly. You can find the originial Talk of the Town implementation [here](https://github.com/james-owen-ryan/talktown).\n",
    "\n",
    "It simulates a single town and characters engage in generally mundane behavior such as being born, growing up, going to school, working jobs, finding romance, and having families. Since Talk of the Town's content comes bundled with neighborly, we don't need to define any additional content within this notebook."
   ]
  },
  {
   "cell_type": "code",
   "execution_count": null,
   "id": "c97baca8",
   "metadata": {},
   "outputs": [],
   "source": [
    "from __future__ import annotations\n",
    "\n",
    "import time\n",
    "import math\n",
    "from typing import Dict, Any\n",
    "\n",
    "from tqdm.notebook import tqdm\n",
    "from matplotlib import pyplot as plt\n",
    "\n",
    "from neighborly.config import NeighborlyConfig\n",
    "from neighborly.simulation import Neighborly\n",
    "from neighborly.core.ecs import World, Active, ISystem\n",
    "from neighborly.core.time import HOURS_PER_YEAR\n",
    "from neighborly.data_collection import DataCollector\n",
    "from neighborly.components.character import GameCharacter\n",
    "from neighborly.core.time import SimDateTime"
   ]
  },
  {
   "cell_type": "markdown",
   "id": "b481d10d",
   "metadata": {},
   "source": [
    "The following are utility functions and data tracking systems to the simulatio"
   ]
  },
  {
   "cell_type": "code",
   "execution_count": 4,
   "id": "1b5c7699",
   "metadata": {},
   "outputs": [],
   "source": [
    "def run_sim_for(sim: Neighborly, years: int) -> None:\n",
    "    \"\"\"Run the simulation for a given number of years and display a progrss bar.\n",
    "\n",
    "    Parameters\n",
    "    ----------\n",
    "    sim\n",
    "        A Neighborly simulation instance.\n",
    "    years\n",
    "        The number of years to simulate.\n",
    "    \"\"\"\n",
    "\n",
    "    # tqdm requires needs to know the number of iterations beforehand.\n",
    "    # So, we need to calculate how many timesteps are in the given number\n",
    "    # of years (rounding up to the nearest whole number)\n",
    "    total_timesteps = math.ceil(\n",
    "        float(years * HOURS_PER_YEAR) / sim.config.time_increment.total_hours\n",
    "    )\n",
    "\n",
    "    for _ in tqdm(range(total_timesteps)):\n",
    "        sim.step()"
   ]
  },
  {
   "cell_type": "markdown",
   "id": "28a94cea",
   "metadata": {},
   "source": [
    "## Tracking Population Size\n",
    "\n",
    "A simple system to create is one that tracks the population size each year. We define it as an ECS system that runs during the early-update phase of a simulation step and counts the number of active characters in the simulation"
   ]
  },
  {
   "cell_type": "code",
   "execution_count": null,
   "id": "ab54c0a1",
   "metadata": {},
   "outputs": [],
   "source": [
    "data_collector.create_new_table(\"population\", (\"timestamp\", \"population\"))\n",
    "\n",
    "\n",
    "class TrackPopulation(ISystem):\n",
    "    sys_group = \"early-update\"\n",
    "    priority = 9999\n",
    "\n",
    "    last_recorded_year = 0\n",
    "\n",
    "    def process(self, *args, **kwargs):\n",
    "        dc = self.world.get_resource(DataCollector)\n",
    "        current_date = self.world.get_resource(SimDateTime)\n",
    "\n",
    "        if current_date.year > self.last_recorded_year:\n",
    "            population = len(self.world.get_components((Active, GameCharacter)))\n",
    "            dc.add_table_row(\n",
    "                \"population\", {\"timestamp\": current_date.year, \"population\": population}\n",
    "            )\n",
    "            self.last_recorded_year = current_date.year"
   ]
  },
  {
   "cell_type": "code",
   "execution_count": 23,
   "id": "6520517d",
   "metadata": {},
   "outputs": [
    {
     "data": {
      "application/vnd.jupyter.widget-view+json": {
       "model_id": "f21c04cdbb14465c805530215415b1cf",
       "version_major": 2,
       "version_minor": 0
      },
      "text/plain": [
       "  0%|          | 0/6000 [00:00<?, ?it/s]"
      ]
     },
     "metadata": {},
     "output_type": "display_data"
    }
   ],
   "source": [
    "sim = Neighborly(\n",
    "    NeighborlyConfig.parse_obj(\n",
    "        {\n",
    "            \"seed\": \"Apples\",\n",
    "            \"time_increment\": \"1mo\",\n",
    "            \"verbose\": False,\n",
    "            \"relationship_schema\": {\n",
    "                \"components\": {\n",
    "                    \"Friendship\": {\n",
    "                        \"min_value\": -100,\n",
    "                        \"max_value\": 100,\n",
    "                    },\n",
    "                    \"Romance\": {\n",
    "                        \"min_value\": -100,\n",
    "                        \"max_value\": 100,\n",
    "                    },\n",
    "                    \"InteractionScore\": {\n",
    "                        \"min_value\": -5,\n",
    "                        \"max_value\": 5,\n",
    "                    },\n",
    "                }\n",
    "            },\n",
    "            \"plugins\": [\n",
    "                \"neighborly.plugins.defaults.all\",\n",
    "                \"neighborly.plugins.talktown.spawn_tables\",\n",
    "                \"neighborly.plugins.talktown\",\n",
    "            ],\n",
    "        }\n",
    "    )\n",
    ")\n",
    "\n",
    "\n",
    "data_collector = sim.world.get_resource(DataCollector)\n",
    "\n",
    "\n",
    "sim.world.add_system(TrackPopulation())\n",
    "\n",
    "\n",
    "run_sim_for(sim, 500)"
   ]
  },
  {
   "cell_type": "markdown",
   "id": "317dad69",
   "metadata": {},
   "source": [
    "## Data visualization"
   ]
  },
  {
   "cell_type": "code",
   "execution_count": 19,
   "id": "82bac09c",
   "metadata": {},
   "outputs": [],
   "source": [
    "import matplotlib.pyplot as plt\n",
    "import seaborn as sns\n",
    "\n",
    "%matplotlib inline"
   ]
  },
  {
   "cell_type": "code",
   "execution_count": 28,
   "id": "d2702243",
   "metadata": {},
   "outputs": [
    {
     "data": {
      "text/plain": [
       "Text(0.5, 1.0, 'Population of Simulation (seed: Apples)')"
      ]
     },
     "execution_count": 28,
     "metadata": {},
     "output_type": "execute_result"
    },
    {
     "data": {
      "image/png": "[encoded data removed]",
      "text/plain": [
       "<Figure size 432x288 with 1 Axes>"
      ]
     },
     "metadata": {
      "needs_background": "light"
     },
     "output_type": "display_data"
    }
   ],
   "source": [
    "plt.plot(\n",
    "    data_collector.tables[\"population\"][\"timestamp\"],\n",
    "    data_collector.tables[\"population\"][\"population\"],\n",
    ")\n",
    "plt.xlabel(\"Year\")\n",
    "plt.ylabel(\"Population\")\n",
    "plt.title(f\"Population of Simulation (seed: {sim.config.seed})\")"
   ]
  },
  {
   "cell_type": "code",
   "execution_count": null,
   "id": "9aa11a08",
   "metadata": {},
   "outputs": [],
   "source": []
  }
 ],
 "metadata": {
  "kernelspec": {
   "display_name": "Python 3 (ipykernel)",
   "language": "python",
   "name": "python3"
  },
  "language_info": {
   "codemirror_mode": {
    "name": "ipython",
    "version": 3
   },
   "file_extension": ".py",
   "mimetype": "text/x-python",
   "name": "python",
   "nbconvert_exporter": "python",
   "pygments_lexer": "ipython3",
   "version": "3.9.16"
  }
 },
 "nbformat": 4,
 "nbformat_minor": 5
}
