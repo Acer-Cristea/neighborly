{
 "cells": [
  {
   "cell_type": "markdown",
   "id": "1b489cf8",
   "metadata": {},
   "source": [
    "# Sample Simulation: Talk of the Town\n",
    "\n",
    "This notebook contains a reimplementation of the Talk of the town simulation in Neighborly. You can find the originial Talk of the Town implementation [here](https://github.com/james-owen-ryan/talktown).\n",
    "\n",
    "It simulates a single town and characters engage in generally mundane behavior such as being born, growing up, going to school, working jobs, finding romance, and having families. Since Talk of the Town's content comes bundled with neighborly, we don't need to define any additional content within this notebook."
   ]
  },
  {
   "cell_type": "code",
   "execution_count": 1,
   "id": "c97baca8",
   "metadata": {},
   "outputs": [],
   "source": [
    "from __future__ import annotations\n",
    "\n",
    "import time\n",
    "import math\n",
    "from typing import Dict, Any\n",
    "\n",
    "from tqdm.notebook import tqdm\n",
    "from matplotlib import pyplot as plt\n",
    "\n",
    "from neighborly.config import NeighborlyConfig\n",
    "from neighborly.simulation import Neighborly\n",
    "from neighborly.ecs import World, Active, System\n",
    "from neighborly.time import SimDateTime, HOURS_PER_YEAR\n",
    "from neighborly.data_collection import DataCollector\n",
    "from neighborly.components.character import GameCharacter"
   ]
  },
  {
   "cell_type": "markdown",
   "id": "473ad831-273d-4740-afc7-7de217b1780e",
   "metadata": {},
   "source": [
    "# Create the simulation"
   ]
  },
  {
   "cell_type": "code",
   "execution_count": 2,
   "id": "0c0d3e1a-1efc-4f60-b2c9-89681f8c3981",
   "metadata": {},
   "outputs": [],
   "source": [
    "sim = Neighborly(\n",
    "    NeighborlyConfig.parse_obj(\n",
    "        {\n",
    "            \"plugins\": [\n",
    "                \"neighborly.plugins.defaults.all\",\n",
    "                \"neighborly.plugins.talktown\",\n",
    "            ],\n",
    "            \"logging\": {\n",
    "                \"logging_enabled\": False,\n",
    "                \"log_level\": \"DEBUG\",\n",
    "            },\n",
    "        }\n",
    "    )\n",
    ")"
   ]
  },
  {
   "cell_type": "markdown",
   "id": "28a94cea",
   "metadata": {},
   "source": [
    "## Tracking Population Size\n",
    "\n",
    "A simple system to create is one that tracks the population size each year. We define it as an ECS system that runs during the early-update phase of a simulation step and counts the number of active characters in the simulation"
   ]
  },
  {
   "cell_type": "code",
   "execution_count": 3,
   "id": "ab54c0a1",
   "metadata": {},
   "outputs": [],
   "source": [
    "class TrackPopulation(System):\n",
    "    def __init__(self) -> None:\n",
    "        super().__init__()\n",
    "        self.last_recorded_year = 0\n",
    "\n",
    "    def on_add(self, world):\n",
    "        data_collector = world.resource_manager.get_resource(DataCollector)\n",
    "        data_collector.create_new_table(\"population\", (\"timestamp\", \"population\"))\n",
    "\n",
    "    def on_update(self, world):\n",
    "        data_collector = world.resource_manager.get_resource(DataCollector)\n",
    "        current_date = world.resource_manager.get_resource(SimDateTime)\n",
    "\n",
    "        if current_date.year > self.last_recorded_year:\n",
    "            population = len(world.get_components((Active, GameCharacter)))\n",
    "            data_collector.add_table_row(\n",
    "                \"population\", {\"timestamp\": current_date.year, \"population\": population}\n",
    "            )\n",
    "            self.last_recorded_year = current_date.year"
   ]
  },
  {
   "cell_type": "code",
   "execution_count": 4,
   "id": "6520517d",
   "metadata": {},
   "outputs": [
    {
     "data": {
      "application/vnd.jupyter.widget-view+json": {
       "model_id": "b4506db5858a4be584e872ad80a7910b",
       "version_major": 2,
       "version_minor": 0
      },
      "text/plain": [
       "  0%|          | 0/150 [00:00<?, ?it/s]"
      ]
     },
     "metadata": {},
     "output_type": "display_data"
    }
   ],
   "source": [
    "from neighborly.systems import DataCollectionSystemGroup\n",
    "from tqdm.notebook import trange\n",
    "\n",
    "sim.world.system_manager.add_system(\n",
    "    TrackPopulation(), system_group=DataCollectionSystemGroup\n",
    ")\n",
    "\n",
    "YEARS = 150\n",
    "\n",
    "for _ in trange(YEARS):\n",
    "    sim.step()"
   ]
  },
  {
   "cell_type": "markdown",
   "id": "317dad69",
   "metadata": {},
   "source": [
    "## Data visualization"
   ]
  },
  {
   "cell_type": "code",
   "execution_count": 5,
   "id": "82bac09c",
   "metadata": {},
   "outputs": [],
   "source": [
    "import matplotlib.pyplot as plt\n",
    "\n",
    "%matplotlib inline"
   ]
  },
  {
   "cell_type": "code",
   "execution_count": 6,
   "id": "d2702243",
   "metadata": {},
   "outputs": [
    {
     "data": {
      "text/plain": [
       "Text(0.5, 1.0, 'Population of Simulation (seed: 4308210)')"
      ]
     },
     "execution_count": 6,
     "metadata": {},
     "output_type": "execute_result"
    },
    {
     "data": {
      "image/png": "[encoded data removed]",
      "text/plain": [
       "<Figure size 640x480 with 1 Axes>"
      ]
     },
     "metadata": {},
     "output_type": "display_data"
    }
   ],
   "source": [
    "population_table = sim.world.resource_manager.get_resource(\n",
    "    DataCollector\n",
    ").get_table_dataframe(\"population\")\n",
    "\n",
    "plt.plot(\n",
    "    population_table[\"timestamp\"],\n",
    "    population_table[\"population\"],\n",
    ")\n",
    "plt.xlabel(\"Year\")\n",
    "plt.ylabel(\"Population\")\n",
    "plt.title(f\"Population of Simulation (seed: {sim.config.seed})\")"
   ]
  }
 ],
 "metadata": {
  "kernelspec": {
   "display_name": "Python 3 (ipykernel)",
   "language": "python",
   "name": "python3"
  },
  "language_info": {
   "codemirror_mode": {
    "name": "ipython",
    "version": 3
   },
   "file_extension": ".py",
   "mimetype": "text/x-python",
   "name": "python",
   "nbconvert_exporter": "python",
   "pygments_lexer": "ipython3",
   "version": "3.10.8"
  }
 },
 "nbformat": 4,
 "nbformat_minor": 5
}
