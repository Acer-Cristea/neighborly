{
 "cells": [
  {
   "cell_type": "markdown",
   "metadata": {},
   "source": [
    "# Neighborly Notebook GUI"
   ]
  },
  {
   "cell_type": "code",
   "execution_count": 1,
   "metadata": {},
   "outputs": [],
   "source": [
    "from gui import SimulationGUI\n",
    "import random\n",
    "from neighborly.simulation import NeighborlyConfig, Simulation"
   ]
  },
  {
   "cell_type": "code",
   "execution_count": 2,
   "metadata": {},
   "outputs": [
    {
     "name": "stdout",
     "output_type": "stream",
     "text": [
      "Sun, 00/00/0001 @ 00:00\n"
     ]
    },
    {
     "data": {
      "application/vnd.jupyter.widget-view+json": {
       "model_id": "38b2dd4e7c5549329d8d31f1316eeaf4",
       "version_major": 2,
       "version_minor": 0
      },
      "text/plain": [
       "VBox(children=(HBox(children=(Button(description='Play', style=ButtonStyle()), Button(description='Step', styl…"
      ]
     },
     "metadata": {},
     "output_type": "display_data"
    }
   ],
   "source": [
    "NEIGHBORLY_CONFIG = NeighborlyConfig(\n",
    "    **{\n",
    "        \"simulation\": {\n",
    "            \"seed\": random.randint(0, 999999),\n",
    "            \"hours_per_timestep\": 6,\n",
    "            \"start_date\": \"0000-00-00T00:00.000z\",\n",
    "            \"end_date\": \"0001-00-00T00:00.000z\",\n",
    "            \"days_per_year\": 10,\n",
    "        },\n",
    "        \"plugins\": [\"neighborly.plugins.default_plugin\", \"neighborly.plugins.talktown\"],\n",
    "    }\n",
    ")\n",
    "\n",
    "sim = Simulation(NEIGHBORLY_CONFIG)\n",
    "sim.establish_setting()\n",
    "\n",
    "sim_gui = SimulationGUI(sim)\n",
    "sim_gui.run()"
   ]
  }
 ],
 "metadata": {
  "interpreter": {
   "hash": "a1809e2d9770292bda7d555079a015bd98a16d4eced5698bdfadad6467bb37ec"
  },
  "kernelspec": {
   "display_name": "Python 3 (ipykernel)",
   "language": "python",
   "name": "python3"
  },
  "language_info": {
   "codemirror_mode": {
    "name": "ipython",
    "version": 3
   },
   "file_extension": ".py",
   "mimetype": "text/x-python",
   "name": "python",
   "nbconvert_exporter": "python",
   "pygments_lexer": "ipython3",
   "version": "3.9.12"
  }
 },
 "nbformat": 4,
 "nbformat_minor": 4
}
