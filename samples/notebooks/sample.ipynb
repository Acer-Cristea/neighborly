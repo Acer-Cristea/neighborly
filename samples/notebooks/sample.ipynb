{
 "cells": [
  {
   "cell_type": "markdown",
   "metadata": {},
   "source": [
    "# Neighborly Notebook GUI"
   ]
  },
  {
   "cell_type": "code",
   "execution_count": 1,
   "metadata": {},
   "outputs": [],
   "source": [
    "from gui import SimulationGUI\n",
    "from neighborly.simulation import Simulation, SimulationConfig\n",
    "from neighborly.core.character import CharacterConfig\n",
    "import neighborly.theming.plugins.default as default_plugin\n",
    "from neighborly.core.ecs_manager import register_character_config"
   ]
  },
  {
   "cell_type": "code",
   "execution_count": 2,
   "metadata": {},
   "outputs": [
    {
     "data": {
      "application/vnd.jupyter.widget-view+json": {
       "model_id": "b53f62b3a2864c918db8687b3969fbb7",
       "version_major": 2,
       "version_minor": 0
      },
      "text/plain": [
       "VBox(children=(HBox(children=(Button(description='Play', style=ButtonStyle()), Button(description='Step', styl…"
      ]
     },
     "metadata": {},
     "output_type": "display_data"
    }
   ],
   "source": [
    "default_plugin.initialize_plugin()\n",
    "\n",
    "register_character_config('default', CharacterConfig())\n",
    "\n",
    "config = SimulationConfig(seed='sample_01')\n",
    "sim = Simulation(config)\n",
    "\n",
    "sim_gui = SimulationGUI(sim)\n",
    "\n",
    "sim_gui.run()"
   ]
  }
 ],
 "metadata": {
  "interpreter": {
   "hash": "a1809e2d9770292bda7d555079a015bd98a16d4eced5698bdfadad6467bb37ec"
  },
  "kernelspec": {
   "display_name": "Python 3 (ipykernel)",
   "language": "python",
   "name": "python3"
  },
  "language_info": {
   "codemirror_mode": {
    "name": "ipython",
    "version": 3
   },
   "file_extension": ".py",
   "mimetype": "text/x-python",
   "name": "python",
   "nbconvert_exporter": "python",
   "pygments_lexer": "ipython3",
   "version": "3.9.7"
  }
 },
 "nbformat": 4,
 "nbformat_minor": 4
}
