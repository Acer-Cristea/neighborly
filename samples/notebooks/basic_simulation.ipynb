{
 "cells": [
  {
   "cell_type": "markdown",
   "metadata": {},
   "source": [
    "# Basic Simulation Sample\n",
    "\n",
    "This notebook contains the implementation of a very simple world simulation built with Neighborly. It uses roughly all the configuration parameters, including logging and shows potential users how to get started building simulations.\n",
    "\n",
    "## Time\n",
    "\n",
    "All worlds start at year zero (0) and time increments by one (1) year every time step.\n",
    "\n",
    "## The settlement\n",
    "\n",
    "Users can modify the size, name, and zoning make-up of the settlement using the, `settings` field in the simulation configuration."
   ]
  },
  {
   "cell_type": "markdown",
   "metadata": {},
   "source": [
    "# Step 1: Create and configure the simulation"
   ]
  },
  {
   "cell_type": "code",
   "execution_count": 1,
   "metadata": {},
   "outputs": [],
   "source": [
    "from neighborly import Neighborly, NeighborlyConfig\n",
    "from neighborly.utils.common import debug_print_gameobject\n",
    "\n",
    "sim = Neighborly(\n",
    "    NeighborlyConfig.parse_obj(\n",
    "        {\n",
    "#             \"seed\": \"Apple\",\n",
    "            \"plugins\": [\n",
    "                \"neighborly.plugins.defaults.all\",\n",
    "                \"neighborly.plugins.talktown\"\n",
    "            ],\n",
    "            \"logging\": {\n",
    "                \"logging_enabled\": False,\n",
    "                \"log_level\": \"INFO\",\n",
    "                \"log_file_name\": \"neighborly.log\",\n",
    "                \"log_directory\": \".\"\n",
    "            },\n",
    "            \"settings\": {\n",
    "                \"settlement_size\": (5, 5),  # Width/length of the settlement grid\n",
    "                \"settlement_name\": \"Sample City\",\n",
    "                \"zoning\": (0.5, 0.5),    # Zoning is 50/50 residential vs. commercial\n",
    "                \"character_spawn_table\": [\n",
    "                    {\"name\": \"character::default::male\"},\n",
    "                    {\"name\": \"character::default::female\"},\n",
    "                    {\"name\": \"character::default::non-binary\"},\n",
    "                ],\n",
    "                \"residence_spawn_table\": [\n",
    "                    {\"name\": \"residence::default::house\"},\n",
    "                ],\n",
    "                \"business_spawn_table\": [\n",
    "                    {\n",
    "                        \"name\": \"business::default::cafe\",\n",
    "                        \"frequency\": 1,\n",
    "                        \"max_instances\": 9999,\n",
    "                        \"min_population\": 0,\n",
    "                        \"year_available\": 0,\n",
    "                        \"year_obsolete\": 9999\n",
    "                    },\n",
    "                    {\n",
    "                        \"name\": \"business::default::library\",\n",
    "                        \"frequency\": 1,\n",
    "                        \"max_instances\": 9999,\n",
    "                        \"min_population\": 0,\n",
    "                        \"year_available\": 0,\n",
    "                        \"year_obsolete\": 9999\n",
    "                    }\n",
    "                ]\n",
    "            }\n",
    "        }\n",
    "    )\n",
    ")"
   ]
  },
  {
   "cell_type": "markdown",
   "metadata": {},
   "source": [
    "# Step 1b: Configure data collection systems\n",
    "\n",
    "For this we are going to track the population of the settlment. We are going to overlay this information on a plot containing the number of incoming residents and the number of departures."
   ]
  },
  {
   "cell_type": "code",
   "execution_count": 2,
   "metadata": {},
   "outputs": [],
   "source": [
    "from collections import defaultdict\n",
    "\n",
    "from neighborly.core.ecs import ISystem, World, Event\n",
    "from neighborly.core.settlement import Settlement\n",
    "from neighborly.components.shared import Name\n",
    "from neighborly.data_collection import DataCollector\n",
    "from neighborly.decorators import system, on_any_event\n",
    "from neighborly.systems import DataCollectionSystemGroup\n",
    "from neighborly.core.time import SimDateTime\n",
    "from neighborly.core.life_event import LifeEvent\n",
    "\n",
    "\n",
    "@system(sim.world, system_group=DataCollectionSystemGroup)\n",
    "class TrackPopulationSystem(ISystem):\n",
    "    def on_create(self, world: World) -> None:\n",
    "        world.resource_manager.get_resource(DataCollector).create_new_table(\n",
    "            \"population\", (\"name\", \"year\", \"population\")\n",
    "        )\n",
    "    \n",
    "    def on_update(self, world: World) -> None:\n",
    "        current_year = world.resource_manager.get_resource(SimDateTime).year\n",
    "        data_collector = world.resource_manager.get_resource(DataCollector)\n",
    "        for _, (name, settlement) in world.get_components((Name, Settlement)):\n",
    "            data_collector.add_table_row(\n",
    "                \"population\",\n",
    "                {\n",
    "                    \"name\": name.value,\n",
    "                    \"year\": current_year,\n",
    "                    \"population\": settlement.population,\n",
    "                },\n",
    "            )\n",
    "            \n",
    "@on_any_event(sim.world)\n",
    "def add_life_event_to_bin(event: Event):\n",
    "    if isinstance(event, LifeEvent):\n",
    "        event.world.system_manager.get_system(TrackLifeEventCounts).increment_bin(\n",
    "            type(event).__name__\n",
    "        )\n",
    "            \n",
    "\n",
    "@system(sim.world, system_group=DataCollectionSystemGroup)\n",
    "class TrackLifeEventCounts(ISystem):\n",
    "    \n",
    "    def __init__(self) -> None:\n",
    "        super().__init__()\n",
    "        self.event_bins = defaultdict(lambda: 0)\n",
    "        \n",
    "    def increment_bin(self, event_type) -> None:\n",
    "        self.event_bins[event_type] += 1\n",
    "    \n",
    "    def on_create(self, world: World) -> None:\n",
    "        world.resource_manager.get_resource(DataCollector).create_new_table(\n",
    "            \"events\", (\"year\", \"event_type\",\"count\")\n",
    "        )\n",
    "    \n",
    "    def on_update(self, world: World) -> None:\n",
    "        current_year = world.resource_manager.get_resource(SimDateTime).year\n",
    "        data_collector = world.resource_manager.get_resource(DataCollector)\n",
    "        \n",
    "        for event_type, count in self.event_bins.items():\n",
    "            data_collector.add_table_row(\n",
    "                \"events\",\n",
    "                {\n",
    "                    \"year\": current_year,\n",
    "                    \"event_type\": event_type,\n",
    "                    \"count\": count,\n",
    "                },\n",
    "            )\n",
    "        \n",
    "        # Clear for next year\n",
    "        self.event_bins.clear()"
   ]
  },
  {
   "cell_type": "markdown",
   "metadata": {},
   "source": [
    "# Step 2: Run step a single time to see what settlement(s) we have\n",
    "\n",
    "By default, the `InitializeSettlementSystem` creates a single settlement using the settings provided in the `settlement` section of the Neighborly config defined above."
   ]
  },
  {
   "cell_type": "code",
   "execution_count": 3,
   "metadata": {
    "scrolled": true
   },
   "outputs": [
    {
     "name": "stdout",
     "output_type": "stream",
     "text": [
      "name: Sample City\n",
      "uid: 113\n",
      "components: [\n",
      "\tName(Sample City)\n",
      "\tSettlement(population=9)\n",
      "\tLocation(gameobjects=OrderedSet(), parent=, children=['residence::default::house(114)', 'residence::default::house(133)'])\n",
      "\tAge(1.0)\n",
      "\t<neighborly.components.spawn_table.CharacterSpawnTable object at 0x126378810>\n",
      "\t<neighborly.components.spawn_table.ResidenceSpawnTable object at 0x126378310>\n",
      "\t<neighborly.components.spawn_table.BusinessSpawnTable object at 0x126309430>\n",
      "\tActive()\n",
      "]\n"
     ]
    }
   ],
   "source": [
    "from neighborly.core.settlement import Settlement\n",
    "\n",
    "sim.step()\n",
    "\n",
    "guid, _ = sim.world.get_component(Settlement)[0]\n",
    "\n",
    "settlement = sim.world.gameobject_manager.get_gameobject(guid)\n",
    "\n",
    "debug_print_gameobject(settlement)"
   ]
  },
  {
   "cell_type": "markdown",
   "metadata": {},
   "source": [
    "# Step 3: Run the simulation for 20 years and see what happened\n",
    "\n",
    "1. The settlement has ages by 20 years"
   ]
  },
  {
   "cell_type": "code",
   "execution_count": 4,
   "metadata": {
    "scrolled": true
   },
   "outputs": [
    {
     "name": "stdout",
     "output_type": "stream",
     "text": [
      "Sample City population: 41\n",
      "\n",
      "Sanderson Hamming(134)\n",
      "Imogen Hamming(135)\n",
      "Audry Hamming(138)\n",
      "Frankie Hamming(144)\n",
      "Patty Hamming(152)\n",
      "Niels Fiveash(417)\n",
      "Cleo Fiveash(418)\n",
      "Adams Fiveash(421)\n",
      "Trace Bruton(679)\n",
      "Corenda Weedman(168)\n",
      "Kristine Weedman(169)\n",
      "Nat Fiveash(427)\n",
      "Sunny Bicker(173)\n",
      "Raymund Bicker(174)\n",
      "Elsy Bicker(177)\n",
      "Reese Fiveash(435)\n",
      "Debbie Donaway(308)\n",
      "Renell Donaway(309)\n",
      "Aubrey Bicker(183)\n",
      "Baillie Donaway(312)\n",
      "Frankie Bluitt(446)\n",
      "Ulberto Bicker(191)\n",
      "Viviana Burston(319)\n",
      "Kerry Burston(320)\n",
      "Merle Bluitt(447)\n",
      "Skylar Burston(323)\n",
      "Libbi Burston(329)\n",
      "Noach Burston(337)\n",
      "Rory Reade(1373)\n",
      "Milan Reade(1374)\n",
      "Gregorio Reade(1377)\n",
      "Zalman Goodkind(230)\n",
      "Townsend Goodkind(231)\n",
      "Joe Botting(235)\n",
      "Johann Botting(236)\n",
      "Blaire Botting(240)\n",
      "Arvy Elkington(115)\n",
      "Jodie Elkington(116)\n",
      "Jan Botting(246)\n",
      "Gaspar Elkington(119)\n",
      "Armani Elkington(125)\n"
     ]
    }
   ],
   "source": [
    "from neighborly.components.character import GameCharacter\n",
    "from neighborly.core.ecs import Active\n",
    "\n",
    "sim.run_for(years=20)\n",
    "\n",
    "print(f\"{settlement.name} population: {settlement.get_component(Settlement).population}\\n\")\n",
    "\n",
    "# Print who lives here\n",
    "for guid, _ in sim.world.get_components((Active, GameCharacter)):\n",
    "    character = sim.world.gameobject_manager.get_gameobject(guid)\n",
    "    print(character.name)"
   ]
  },
  {
   "cell_type": "code",
   "execution_count": 5,
   "metadata": {},
   "outputs": [
    {
     "data": {
      "text/plain": [
       "Text(0.5, 1.0, 'Population of Simulation (seed: 5447217)')"
      ]
     },
     "execution_count": 5,
     "metadata": {},
     "output_type": "execute_result"
    },
    {
     "data": {
      "image/png": "[encoded data removed]",
      "text/plain": [
       "<Figure size 432x288 with 1 Axes>"
      ]
     },
     "metadata": {
      "needs_background": "light"
     },
     "output_type": "display_data"
    }
   ],
   "source": [
    "from neighborly.data_collection import DataCollector\n",
    "import matplotlib.pyplot as plt\n",
    "import seaborn as sns\n",
    "%matplotlib inline\n",
    "\n",
    "data_collector = sim.world.resource_manager.get_resource(DataCollector)\n",
    "population_table = data_collector.get_table_dataframe(\"population\")\n",
    "\n",
    "plt.plot(\n",
    "    population_table[\"year\"],\n",
    "    population_table[\"population\"]\n",
    ")\n",
    "plt.xlabel(\"Year\")\n",
    "plt.ylabel(\"Population\")\n",
    "plt.title(f\"Population of Simulation (seed: {sim.config.seed})\")"
   ]
  },
  {
   "cell_type": "code",
   "execution_count": 6,
   "metadata": {},
   "outputs": [
    {
     "name": "stdout",
     "output_type": "stream",
     "text": [
      "     year           event_type  count\n",
      "0       2  JoinSettlementEvent      9\n",
      "1       2   MoveResidenceEvent      9\n",
      "2       3     NewBusinessEvent      1\n",
      "3       3   StartBusinessEvent      1\n",
      "4       3        StartJobEvent      3\n",
      "..    ...                  ...    ...\n",
      "120    21     StartDatingEvent      4\n",
      "121    21        StartJobEvent      1\n",
      "122    21         BreakUpEvent      2\n",
      "123    21          EndJobEvent      3\n",
      "124    21  BusinessClosedEvent      1\n",
      "\n",
      "[125 rows x 3 columns]\n",
      "['JoinSettlementEvent' 'MoveResidenceEvent' 'NewBusinessEvent'\n",
      " 'StartBusinessEvent' 'StartJobEvent' 'DivorceEvent'\n",
      " 'BecameAcquaintancesEvent' 'StartDatingEvent' 'BreakUpEvent'\n",
      " 'EndJobEvent' 'BusinessClosedEvent' 'MarriageEvent']\n"
     ]
    },
    {
     "data": {
      "text/plain": [
       "Text(0.5, 1.0, 'Count of JoinSettlementEvents (seed: 5447217)')"
      ]
     },
     "execution_count": 6,
     "metadata": {},
     "output_type": "execute_result"
    },
    {
     "data": {
      "image/png": "[encoded data removed]",
      "text/plain": [
       "<Figure size 432x288 with 1 Axes>"
      ]
     },
     "metadata": {
      "needs_background": "light"
     },
     "output_type": "display_data"
    }
   ],
   "source": [
    "from neighborly.data_collection import DataCollector\n",
    "\n",
    "data_collector = sim.world.resource_manager.get_resource(DataCollector)\n",
    "event_counts = data_collector.get_table_dataframe(\"events\")\n",
    "\n",
    "print(event_counts)\n",
    "\n",
    "\n",
    "print(event_counts[\"event_type\"].unique())\n",
    "\n",
    "\n",
    "join_events = event_counts[event_counts['event_type'] == \"JoinSettlementEvent\"]\n",
    "depart_events = event_counts[event_counts['event_type'] == \"DepartEvent\"]\n",
    "# print(join_events)\n",
    "\n",
    "\n",
    "plt.bar(\n",
    "    join_events[\"year\"],\n",
    "    join_events[\"count\"]\n",
    ")\n",
    "plt.xlabel(\"Year\")\n",
    "plt.ylabel(\"Count\")\n",
    "plt.title(f\"Count of JoinSettlementEvents (seed: {sim.config.seed})\")"
   ]
  }
 ],
 "metadata": {
  "kernelspec": {
   "display_name": "Python 3 (ipykernel)",
   "language": "python",
   "name": "python3"
  },
  "language_info": {
   "codemirror_mode": {
    "name": "ipython",
    "version": 3
   },
   "file_extension": ".py",
   "mimetype": "text/x-python",
   "name": "python",
   "nbconvert_exporter": "python",
   "pygments_lexer": "ipython3",
   "version": "3.9.16"
  }
 },
 "nbformat": 4,
 "nbformat_minor": 2
}
