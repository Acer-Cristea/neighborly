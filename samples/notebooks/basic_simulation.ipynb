{
 "cells": [
  {
   "cell_type": "markdown",
   "metadata": {},
   "source": [
    "# Basic Simulation Sample\n",
    "\n",
    "This notebook contains the implementation of a very simple world simulation built with Neighborly. It uses roughly all the configuration parameters, including logging and shows potential users how to get started building simulations.\n",
    "\n",
    "## Time\n",
    "\n",
    "All worlds start at year zero (0) and time increments by one (1) year every time step.\n",
    "\n",
    "## The settlement\n",
    "\n",
    "Users can modify the size, name, and zoning make-up of the settlement using the, `settings` field in the simulation configuration."
   ]
  },
  {
   "cell_type": "markdown",
   "metadata": {},
   "source": [
    "# Step 1: Create and configure the simulation"
   ]
  },
  {
   "cell_type": "code",
   "execution_count": 1,
   "metadata": {},
   "outputs": [],
   "source": [
    "from neighborly import Neighborly, NeighborlyConfig\n",
    "from neighborly.utils.common import debug_print_gameobject\n",
    "\n",
    "sim = Neighborly(\n",
    "    NeighborlyConfig.parse_obj(\n",
    "        {\n",
    "            #             \"seed\": \"Apple\",\n",
    "            \"plugins\": [\n",
    "                \"neighborly.plugins.defaults.all\",\n",
    "                \"neighborly.plugins.talktown\",\n",
    "            ],\n",
    "            \"logging\": {\n",
    "                \"logging_enabled\": False,\n",
    "                \"log_level\": \"INFO\",\n",
    "                \"log_file_name\": \"neighborly.log\",\n",
    "                \"log_directory\": \".\",\n",
    "            },\n",
    "            \"settings\": {\n",
    "                \"settlement_size\": (5, 5),  # Width/length of the settlement grid\n",
    "                \"settlement_name\": \"Sample City\",\n",
    "                \"zoning\": (0.5, 0.5),  # Zoning is 50/50 residential vs. commercial\n",
    "                \"character_spawn_table\": [\n",
    "                    {\"name\": \"character::default::male\"},\n",
    "                    {\"name\": \"character::default::female\"},\n",
    "                    {\"name\": \"character::default::non-binary\"},\n",
    "                ],\n",
    "                \"residence_spawn_table\": [\n",
    "                    {\"name\": \"residence::default::house\"},\n",
    "                ],\n",
    "                \"business_spawn_table\": [\n",
    "                    {\n",
    "                        \"name\": \"business::default::cafe\",\n",
    "                        \"frequency\": 1,\n",
    "                        \"max_instances\": 9999,\n",
    "                        \"min_population\": 0,\n",
    "                        \"year_available\": 0,\n",
    "                        \"year_obsolete\": 9999,\n",
    "                    },\n",
    "                    {\n",
    "                        \"name\": \"business::default::library\",\n",
    "                        \"frequency\": 1,\n",
    "                        \"max_instances\": 9999,\n",
    "                        \"min_population\": 0,\n",
    "                        \"year_available\": 0,\n",
    "                        \"year_obsolete\": 9999,\n",
    "                    },\n",
    "                ],\n",
    "            },\n",
    "        }\n",
    "    )\n",
    ")"
   ]
  },
  {
   "cell_type": "markdown",
   "metadata": {},
   "source": [
    "# Step 1b: Configure data collection systems\n",
    "\n",
    "For this we are going to track the population of the settlment. We are going to overlay this information on a plot containing the number of incoming residents and the number of departures."
   ]
  },
  {
   "cell_type": "code",
   "execution_count": 2,
   "metadata": {},
   "outputs": [],
   "source": [
    "from collections import defaultdict\n",
    "\n",
    "from neighborly.core.ecs import ISystem, World, Event\n",
    "from neighborly.core.settlement import Settlement\n",
    "from neighborly.components.shared import Name\n",
    "from neighborly.data_collection import DataCollector\n",
    "from neighborly.decorators import system, on_any_event\n",
    "from neighborly.systems import DataCollectionSystemGroup\n",
    "from neighborly.core.time import SimDateTime\n",
    "from neighborly.core.life_event import LifeEvent\n",
    "\n",
    "\n",
    "@system(sim.world, system_group=DataCollectionSystemGroup)\n",
    "class TrackPopulationSystem(ISystem):\n",
    "    def on_create(self, world: World) -> None:\n",
    "        world.resource_manager.get_resource(DataCollector).create_new_table(\n",
    "            \"population\", (\"name\", \"year\", \"population\")\n",
    "        )\n",
    "\n",
    "    def on_update(self, world: World) -> None:\n",
    "        current_year = world.resource_manager.get_resource(SimDateTime).year\n",
    "        data_collector = world.resource_manager.get_resource(DataCollector)\n",
    "        for _, (name, settlement) in world.get_components((Name, Settlement)):\n",
    "            data_collector.add_table_row(\n",
    "                \"population\",\n",
    "                {\n",
    "                    \"name\": name.value,\n",
    "                    \"year\": current_year,\n",
    "                    \"population\": settlement.population,\n",
    "                },\n",
    "            )\n",
    "\n",
    "\n",
    "@on_any_event(sim.world)\n",
    "def add_life_event_to_bin(event: Event):\n",
    "    if isinstance(event, LifeEvent):\n",
    "        event.world.system_manager.get_system(TrackLifeEventCounts).increment_bin(\n",
    "            type(event).__name__\n",
    "        )\n",
    "\n",
    "\n",
    "@system(sim.world, system_group=DataCollectionSystemGroup)\n",
    "class TrackLifeEventCounts(ISystem):\n",
    "    def __init__(self) -> None:\n",
    "        super().__init__()\n",
    "        self.event_bins = defaultdict(lambda: 0)\n",
    "\n",
    "    def increment_bin(self, event_type) -> None:\n",
    "        self.event_bins[event_type] += 1\n",
    "\n",
    "    def on_create(self, world: World) -> None:\n",
    "        world.resource_manager.get_resource(DataCollector).create_new_table(\n",
    "            \"events\", (\"year\", \"event_type\", \"count\")\n",
    "        )\n",
    "\n",
    "    def on_update(self, world: World) -> None:\n",
    "        current_year = world.resource_manager.get_resource(SimDateTime).year\n",
    "        data_collector = world.resource_manager.get_resource(DataCollector)\n",
    "\n",
    "        for event_type, count in self.event_bins.items():\n",
    "            data_collector.add_table_row(\n",
    "                \"events\",\n",
    "                {\n",
    "                    \"year\": current_year,\n",
    "                    \"event_type\": event_type,\n",
    "                    \"count\": count,\n",
    "                },\n",
    "            )\n",
    "\n",
    "        # Clear for next year\n",
    "        self.event_bins.clear()"
   ]
  },
  {
   "cell_type": "markdown",
   "metadata": {},
   "source": [
    "# Step 2: Run step a single time to see what settlement(s) we have\n",
    "\n",
    "By default, the `InitializeSettlementSystem` creates a single settlement using the settings provided in the `settlement` section of the Neighborly config defined above."
   ]
  },
  {
   "cell_type": "code",
   "execution_count": 3,
   "metadata": {
    "scrolled": true
   },
   "outputs": [
    {
     "name": "stdout",
     "output_type": "stream",
     "text": [
      "name: Sample City\n",
      "uid: 101\n",
      "components: [\n",
      "\tName(Sample City)\n",
      "\tSettlement(population=5)\n",
      "\tLocation(gameobjects=OrderedSet(), parent=, children=['residence::default::house(102)', 'residence::default::house(108)'])\n",
      "\tAge(1.0)\n",
      "\t<neighborly.components.spawn_table.CharacterSpawnTable object at 0x0000021333E81760>\n",
      "\t<neighborly.components.spawn_table.ResidenceSpawnTable object at 0x0000021333EB94E0>\n",
      "\t<neighborly.components.spawn_table.BusinessSpawnTable object at 0x0000021332C6A2D0>\n",
      "\tActive()\n",
      "]\n"
     ]
    }
   ],
   "source": [
    "from neighborly.core.settlement import Settlement\n",
    "\n",
    "sim.step()\n",
    "\n",
    "guid, _ = sim.world.get_component(Settlement)[0]\n",
    "\n",
    "settlement = sim.world.gameobject_manager.get_gameobject(guid)\n",
    "\n",
    "debug_print_gameobject(settlement)"
   ]
  },
  {
   "cell_type": "markdown",
   "metadata": {},
   "source": [
    "# Step 3: Run the simulation for 20 years and see what happened\n",
    "\n",
    "1. The settlement has ages by 20 years"
   ]
  },
  {
   "cell_type": "code",
   "execution_count": 4,
   "metadata": {
    "scrolled": true
   },
   "outputs": [
    {
     "ename": "KeyError",
     "evalue": "GameObject(id=348, name=Library(348), parent=Sample City, children=[])",
     "output_type": "error",
     "traceback": [
      "\u001b[1;31m---------------------------------------------------------------------------\u001b[0m",
      "\u001b[1;31mKeyError\u001b[0m                                  Traceback (most recent call last)",
      "Cell \u001b[1;32mIn[4], line 4\u001b[0m\n\u001b[0;32m      1\u001b[0m \u001b[38;5;28;01mfrom\u001b[39;00m \u001b[38;5;21;01mneighborly\u001b[39;00m\u001b[38;5;21;01m.\u001b[39;00m\u001b[38;5;21;01mcomponents\u001b[39;00m\u001b[38;5;21;01m.\u001b[39;00m\u001b[38;5;21;01mcharacter\u001b[39;00m \u001b[38;5;28;01mimport\u001b[39;00m GameCharacter\n\u001b[0;32m      2\u001b[0m \u001b[38;5;28;01mfrom\u001b[39;00m \u001b[38;5;21;01mneighborly\u001b[39;00m\u001b[38;5;21;01m.\u001b[39;00m\u001b[38;5;21;01mcore\u001b[39;00m\u001b[38;5;21;01m.\u001b[39;00m\u001b[38;5;21;01mecs\u001b[39;00m \u001b[38;5;28;01mimport\u001b[39;00m Active\n\u001b[1;32m----> 4\u001b[0m \u001b[43msim\u001b[49m\u001b[38;5;241;43m.\u001b[39;49m\u001b[43mrun_for\u001b[49m\u001b[43m(\u001b[49m\u001b[43myears\u001b[49m\u001b[38;5;241;43m=\u001b[39;49m\u001b[38;5;241;43m20\u001b[39;49m\u001b[43m)\u001b[49m\n\u001b[0;32m      6\u001b[0m \u001b[38;5;28mprint\u001b[39m(\u001b[38;5;124mf\u001b[39m\u001b[38;5;124m\"\u001b[39m\u001b[38;5;132;01m{\u001b[39;00msettlement\u001b[38;5;241m.\u001b[39mname\u001b[38;5;132;01m}\u001b[39;00m\u001b[38;5;124m population: \u001b[39m\u001b[38;5;132;01m{\u001b[39;00msettlement\u001b[38;5;241m.\u001b[39mget_component(Settlement)\u001b[38;5;241m.\u001b[39mpopulation\u001b[38;5;132;01m}\u001b[39;00m\u001b[38;5;130;01m\\n\u001b[39;00m\u001b[38;5;124m\"\u001b[39m)\n\u001b[0;32m      8\u001b[0m \u001b[38;5;66;03m# Print who lives here\u001b[39;00m\n",
      "File \u001b[1;32m~\\Workspace\\neighborly\\src\\neighborly\\simulation.py:507\u001b[0m, in \u001b[0;36mNeighborly.run_for\u001b[1;34m(self, years)\u001b[0m\n\u001b[0;32m    505\u001b[0m \u001b[38;5;28;01mtry\u001b[39;00m:\n\u001b[0;32m    506\u001b[0m     \u001b[38;5;28;01mfor\u001b[39;00m _ \u001b[38;5;129;01min\u001b[39;00m \u001b[38;5;28mrange\u001b[39m(years):\n\u001b[1;32m--> 507\u001b[0m         \u001b[38;5;28;43mself\u001b[39;49m\u001b[38;5;241;43m.\u001b[39;49m\u001b[43mstep\u001b[49m\u001b[43m(\u001b[49m\u001b[43m)\u001b[49m\n\u001b[0;32m    508\u001b[0m \u001b[38;5;28;01mexcept\u001b[39;00m \u001b[38;5;167;01mKeyboardInterrupt\u001b[39;00m:\n\u001b[0;32m    509\u001b[0m     \u001b[38;5;28mprint\u001b[39m(\u001b[38;5;124m\"\u001b[39m\u001b[38;5;130;01m\\n\u001b[39;00m\u001b[38;5;124mStopping Simulation\u001b[39m\u001b[38;5;124m\"\u001b[39m)\n",
      "File \u001b[1;32m~\\Workspace\\neighborly\\src\\neighborly\\simulation.py:513\u001b[0m, in \u001b[0;36mNeighborly.step\u001b[1;34m(self)\u001b[0m\n\u001b[0;32m    511\u001b[0m \u001b[38;5;28;01mdef\u001b[39;00m \u001b[38;5;21mstep\u001b[39m(\u001b[38;5;28mself\u001b[39m) \u001b[38;5;241m-\u001b[39m\u001b[38;5;241m>\u001b[39m \u001b[38;5;28;01mNone\u001b[39;00m:\n\u001b[0;32m    512\u001b[0m \u001b[38;5;250m    \u001b[39m\u001b[38;5;124;03m\"\"\"Advance the simulation a single timestep.\"\"\"\u001b[39;00m\n\u001b[1;32m--> 513\u001b[0m     \u001b[38;5;28;43mself\u001b[39;49m\u001b[38;5;241;43m.\u001b[39;49m\u001b[43mworld\u001b[49m\u001b[38;5;241;43m.\u001b[39;49m\u001b[43mstep\u001b[49m\u001b[43m(\u001b[49m\u001b[43m)\u001b[49m\n",
      "File \u001b[1;32m~\\Workspace\\neighborly\\src\\neighborly\\core\\ecs.py:1968\u001b[0m, in \u001b[0;36mWorld.step\u001b[1;34m(self)\u001b[0m\n\u001b[0;32m   1966\u001b[0m \u001b[38;5;250m\u001b[39m\u001b[38;5;124;03m\"\"\"Advance the simulation as single tick and call all the systems.\"\"\"\u001b[39;00m\n\u001b[0;32m   1967\u001b[0m \u001b[38;5;28mself\u001b[39m\u001b[38;5;241m.\u001b[39m_gameobject_manager\u001b[38;5;241m.\u001b[39mclear_dead_gameobjects()\n\u001b[1;32m-> 1968\u001b[0m \u001b[38;5;28;43mself\u001b[39;49m\u001b[38;5;241;43m.\u001b[39;49m\u001b[43m_system_manager\u001b[49m\u001b[38;5;241;43m.\u001b[39;49m\u001b[43mupdate_systems\u001b[49m\u001b[43m(\u001b[49m\u001b[43m)\u001b[49m\n",
      "File \u001b[1;32m~\\Workspace\\neighborly\\src\\neighborly\\core\\ecs.py:902\u001b[0m, in \u001b[0;36mSystemManager.update_systems\u001b[1;34m(self)\u001b[0m\n\u001b[0;32m    900\u001b[0m \u001b[38;5;28;01mdef\u001b[39;00m \u001b[38;5;21mupdate_systems\u001b[39m(\u001b[38;5;28mself\u001b[39m) \u001b[38;5;241m-\u001b[39m\u001b[38;5;241m>\u001b[39m \u001b[38;5;28;01mNone\u001b[39;00m:\n\u001b[0;32m    901\u001b[0m \u001b[38;5;250m    \u001b[39m\u001b[38;5;124;03m\"\"\"Update all systems in the manager.\"\"\"\u001b[39;00m\n\u001b[1;32m--> 902\u001b[0m     \u001b[38;5;28;43mself\u001b[39;49m\u001b[38;5;241;43m.\u001b[39;49m\u001b[43mon_update\u001b[49m\u001b[43m(\u001b[49m\u001b[38;5;28;43mself\u001b[39;49m\u001b[38;5;241;43m.\u001b[39;49m\u001b[43mworld\u001b[49m\u001b[43m)\u001b[49m\n",
      "File \u001b[1;32m~\\Workspace\\neighborly\\src\\neighborly\\core\\ecs.py:780\u001b[0m, in \u001b[0;36mSystemGroup.on_update\u001b[1;34m(self, world)\u001b[0m\n\u001b[0;32m    778\u001b[0m child\u001b[38;5;241m.\u001b[39mon_start_running(world)\n\u001b[0;32m    779\u001b[0m \u001b[38;5;28;01mif\u001b[39;00m child\u001b[38;5;241m.\u001b[39mshould_run_system(world):\n\u001b[1;32m--> 780\u001b[0m     \u001b[43mchild\u001b[49m\u001b[38;5;241;43m.\u001b[39;49m\u001b[43mon_update\u001b[49m\u001b[43m(\u001b[49m\u001b[43mworld\u001b[49m\u001b[43m)\u001b[49m\n\u001b[0;32m    781\u001b[0m child\u001b[38;5;241m.\u001b[39mon_stop_running(world)\n",
      "File \u001b[1;32m~\\Workspace\\neighborly\\src\\neighborly\\core\\ecs.py:780\u001b[0m, in \u001b[0;36mSystemGroup.on_update\u001b[1;34m(self, world)\u001b[0m\n\u001b[0;32m    778\u001b[0m child\u001b[38;5;241m.\u001b[39mon_start_running(world)\n\u001b[0;32m    779\u001b[0m \u001b[38;5;28;01mif\u001b[39;00m child\u001b[38;5;241m.\u001b[39mshould_run_system(world):\n\u001b[1;32m--> 780\u001b[0m     \u001b[43mchild\u001b[49m\u001b[38;5;241;43m.\u001b[39;49m\u001b[43mon_update\u001b[49m\u001b[43m(\u001b[49m\u001b[43mworld\u001b[49m\u001b[43m)\u001b[49m\n\u001b[0;32m    781\u001b[0m child\u001b[38;5;241m.\u001b[39mon_stop_running(world)\n",
      "File \u001b[1;32m~\\Workspace\\neighborly\\src\\neighborly\\systems.py:665\u001b[0m, in \u001b[0;36mGoOutOfBusinessSystem.on_update\u001b[1;34m(self, world)\u001b[0m\n\u001b[0;32m    661\u001b[0m probability_of_closing \u001b[38;5;241m=\u001b[39m (\n\u001b[0;32m    662\u001b[0m     GoOutOfBusinessSystem\u001b[38;5;241m.\u001b[39mcalculate_probability_of_closing(business)\n\u001b[0;32m    663\u001b[0m )\n\u001b[0;32m    664\u001b[0m \u001b[38;5;28;01mif\u001b[39;00m rng\u001b[38;5;241m.\u001b[39mrandom() \u001b[38;5;241m<\u001b[39m probability_of_closing:\n\u001b[1;32m--> 665\u001b[0m     \u001b[43mshutdown_business\u001b[49m\u001b[43m(\u001b[49m\u001b[43mbusiness\u001b[49m\u001b[43m)\u001b[49m\n",
      "File \u001b[1;32m~\\Workspace\\neighborly\\src\\neighborly\\utils\\common.py:569\u001b[0m, in \u001b[0;36mshutdown_business\u001b[1;34m(business)\u001b[0m\n\u001b[0;32m    567\u001b[0m \u001b[38;5;66;03m# Remove all the employees\u001b[39;00m\n\u001b[0;32m    568\u001b[0m \u001b[38;5;28;01mfor\u001b[39;00m employee, _ \u001b[38;5;129;01min\u001b[39;00m [\u001b[38;5;241m*\u001b[39mbusiness_comp\u001b[38;5;241m.\u001b[39miter_employees()]:\n\u001b[1;32m--> 569\u001b[0m     \u001b[43mend_job\u001b[49m\u001b[43m(\u001b[49m\u001b[43memployee\u001b[49m\u001b[43m,\u001b[49m\u001b[43m \u001b[49m\u001b[43mbusiness\u001b[49m\u001b[43m,\u001b[49m\u001b[43m \u001b[49m\u001b[43mreason\u001b[49m\u001b[38;5;241;43m=\u001b[39;49m\u001b[43mevent\u001b[49m\u001b[43m)\u001b[49m\n\u001b[0;32m    571\u001b[0m \u001b[38;5;66;03m# Remove the owner if applicable\u001b[39;00m\n\u001b[0;32m    572\u001b[0m \u001b[38;5;28;01mif\u001b[39;00m business_comp\u001b[38;5;241m.\u001b[39mowner \u001b[38;5;129;01mis\u001b[39;00m \u001b[38;5;129;01mnot\u001b[39;00m \u001b[38;5;28;01mNone\u001b[39;00m:\n",
      "File \u001b[1;32m~\\Workspace\\neighborly\\src\\neighborly\\utils\\common.py:615\u001b[0m, in \u001b[0;36mend_job\u001b[1;34m(character, business, reason)\u001b[0m\n\u001b[0;32m    611\u001b[0m occupation_role \u001b[38;5;241m=\u001b[39m business\u001b[38;5;241m.\u001b[39mget_component(Business)\u001b[38;5;241m.\u001b[39mget_employee_role(character)\n\u001b[0;32m    613\u001b[0m business_comp \u001b[38;5;241m=\u001b[39m business\u001b[38;5;241m.\u001b[39mget_component(Business)\n\u001b[1;32m--> 615\u001b[0m \u001b[43mcharacter\u001b[49m\u001b[38;5;241;43m.\u001b[39;49m\u001b[43mget_component\u001b[49m\u001b[43m(\u001b[49m\u001b[43mFrequentedLocations\u001b[49m\u001b[43m)\u001b[49m\u001b[38;5;241;43m.\u001b[39;49m\u001b[43mremove\u001b[49m\u001b[43m(\u001b[49m\u001b[43mbusiness\u001b[49m\u001b[43m)\u001b[49m\n\u001b[0;32m    616\u001b[0m business\u001b[38;5;241m.\u001b[39mget_component(FrequentedBy)\u001b[38;5;241m.\u001b[39mremove(character)\n\u001b[0;32m    618\u001b[0m \u001b[38;5;28;01mif\u001b[39;00m occupation_role\u001b[38;5;241m.\u001b[39mhas_component(BusinessOwner):\n",
      "File \u001b[1;32m~\\Workspace\\neighborly\\src\\neighborly\\components\\shared.py:231\u001b[0m, in \u001b[0;36mFrequentedLocations.remove\u001b[1;34m(self, location)\u001b[0m\n\u001b[0;32m    223\u001b[0m \u001b[38;5;28;01mdef\u001b[39;00m \u001b[38;5;21mremove\u001b[39m(\u001b[38;5;28mself\u001b[39m, location: GameObject) \u001b[38;5;241m-\u001b[39m\u001b[38;5;241m>\u001b[39m \u001b[38;5;28;01mNone\u001b[39;00m:\n\u001b[0;32m    224\u001b[0m \u001b[38;5;250m    \u001b[39m\u001b[38;5;124;03m\"\"\"Remove a location.\u001b[39;00m\n\u001b[0;32m    225\u001b[0m \n\u001b[0;32m    226\u001b[0m \u001b[38;5;124;03m    Parameters\u001b[39;00m\n\u001b[1;32m   (...)\u001b[0m\n\u001b[0;32m    229\u001b[0m \u001b[38;5;124;03m        A GameObject reference to a location to remove.\u001b[39;00m\n\u001b[0;32m    230\u001b[0m \u001b[38;5;124;03m    \"\"\"\u001b[39;00m\n\u001b[1;32m--> 231\u001b[0m     \u001b[38;5;28;43mself\u001b[39;49m\u001b[38;5;241;43m.\u001b[39;49m\u001b[43m_locations\u001b[49m\u001b[38;5;241;43m.\u001b[39;49m\u001b[43mremove\u001b[49m\u001b[43m(\u001b[49m\u001b[43mlocation\u001b[49m\u001b[43m)\u001b[49m\n",
      "File \u001b[1;32m<frozen _collections_abc>:696\u001b[0m, in \u001b[0;36mremove\u001b[1;34m(self, value)\u001b[0m\n",
      "\u001b[1;31mKeyError\u001b[0m: GameObject(id=348, name=Library(348), parent=Sample City, children=[])"
     ]
    }
   ],
   "source": [
    "from neighborly.components.character import GameCharacter\n",
    "from neighborly.core.ecs import Active\n",
    "\n",
    "sim.run_for(years=20)\n",
    "\n",
    "print(\n",
    "    f\"{settlement.name} population: {settlement.get_component(Settlement).population}\\n\"\n",
    ")\n",
    "\n",
    "# Print who lives here\n",
    "for guid, _ in sim.world.get_components((Active, GameCharacter)):\n",
    "    character = sim.world.gameobject_manager.get_gameobject(guid)\n",
    "    print(character.name)"
   ]
  },
  {
   "cell_type": "code",
   "execution_count": null,
   "metadata": {},
   "outputs": [],
   "source": [
    "from neighborly.data_collection import DataCollector\n",
    "import matplotlib.pyplot as plt\n",
    "import seaborn as sns\n",
    "\n",
    "%matplotlib inline\n",
    "\n",
    "data_collector = sim.world.resource_manager.get_resource(DataCollector)\n",
    "population_table = data_collector.get_table_dataframe(\"population\")\n",
    "\n",
    "plt.plot(population_table[\"year\"], population_table[\"population\"])\n",
    "plt.xlabel(\"Year\")\n",
    "plt.ylabel(\"Population\")\n",
    "plt.title(f\"Population of Simulation (seed: {sim.config.seed})\")"
   ]
  },
  {
   "cell_type": "code",
   "execution_count": null,
   "metadata": {},
   "outputs": [],
   "source": [
    "from neighborly.data_collection import DataCollector\n",
    "\n",
    "data_collector = sim.world.resource_manager.get_resource(DataCollector)\n",
    "event_counts = data_collector.get_table_dataframe(\"events\")\n",
    "\n",
    "print(event_counts)\n",
    "\n",
    "\n",
    "print(event_counts[\"event_type\"].unique())\n",
    "\n",
    "\n",
    "join_events = event_counts[event_counts[\"event_type\"] == \"JoinSettlementEvent\"]\n",
    "depart_events = event_counts[event_counts[\"event_type\"] == \"DepartEvent\"]\n",
    "# print(join_events)\n",
    "\n",
    "\n",
    "plt.bar(join_events[\"year\"], join_events[\"count\"])\n",
    "plt.xlabel(\"Year\")\n",
    "plt.ylabel(\"Count\")\n",
    "plt.title(f\"Count of JoinSettlementEvents (seed: {sim.config.seed})\")"
   ]
  }
 ],
 "metadata": {
  "kernelspec": {
   "display_name": "Python 3 (ipykernel)",
   "language": "python",
   "name": "python3"
  },
  "language_info": {
   "codemirror_mode": {
    "name": "ipython",
    "version": 3
   },
   "file_extension": ".py",
   "mimetype": "text/x-python",
   "name": "python",
   "nbconvert_exporter": "python",
   "pygments_lexer": "ipython3",
   "version": "3.11.4"
  }
 },
 "nbformat": 4,
 "nbformat_minor": 2
}
