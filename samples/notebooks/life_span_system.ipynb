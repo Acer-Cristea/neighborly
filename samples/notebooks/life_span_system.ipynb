{
 "cells": [
  {
   "cell_type": "code",
   "execution_count": 1,
   "id": "3caafe31-4451-4203-bddd-da7cb0408efe",
   "metadata": {},
   "outputs": [],
   "source": [
    "from dataclasses import dataclass\n",
    "\n",
    "import numpy as np\n",
    "\n",
    "\n",
    "@dataclass\n",
    "class Agent:\n",
    "    uid: int\n",
    "    health: float\n",
    "    health_decay: float\n",
    "    age: int = 0\n",
    "    chance_health_decay: float = 0.0\n",
    "    is_adult: bool = False\n",
    "\n",
    "\n",
    "# Experiment Parameters\n",
    "NUM_AGENTS = 100"
   ]
  },
  {
   "cell_type": "code",
   "execution_count": 2,
   "id": "4c299c57-3f75-44dd-9c8b-ed201cd2ef00",
   "metadata": {},
   "outputs": [
    {
     "name": "stdout",
     "output_type": "stream",
     "text": [
      "Mean lifespan: 100.0 (+/- 0.0) (n=100)\n"
     ]
    }
   ],
   "source": [
    "agents = [Agent(uid=i, health=100, health_decay=-1) for i in range(NUM_AGENTS)]\n",
    "\n",
    "death_ages = []\n",
    "\n",
    "while len(agents) > 0:\n",
    "    for agent in agents:\n",
    "        agent.age += 1\n",
    "        agent.health += agent.health_decay\n",
    "\n",
    "    for agent in [*agents]:\n",
    "        if agent.health <= 0:\n",
    "            death_ages.append(agent.age)\n",
    "            agents.remove(agent)\n",
    "\n",
    "death_ages_arr = np.array(death_ages)\n",
    "lifespan_mean = death_ages_arr.mean()\n",
    "lifespan_std = death_ages_arr.std()\n",
    "\n",
    "print(f\"Mean lifespan: {lifespan_mean} (+/- {lifespan_std}) (n={NUM_AGENTS})\")"
   ]
  },
  {
   "cell_type": "code",
   "execution_count": 453,
   "id": "5c42b90a-866b-41ad-ae8a-fb9f35d3ee79",
   "metadata": {},
   "outputs": [
    {
     "name": "stdout",
     "output_type": "stream",
     "text": [
      "Mean lifespan: 91.5 (+/- 2.9614185789921694) (n=100)\n",
      "Min: 82, Max: 100\n"
     ]
    }
   ],
   "source": [
    "import random\n",
    "\n",
    "ADULT_AGE = 25\n",
    "HEALTH_DECAY_CHANCE_INCREASE = 0.02\n",
    "STARTING_HEALTH_DECAY = -2.2\n",
    "STARTING_HEALTH_DECAY_CHANCE = 0.07\n",
    "\n",
    "agents = [Agent(uid=i, health=100, health_decay=0) for i in range(NUM_AGENTS)]\n",
    "\n",
    "death_ages = []\n",
    "\n",
    "while len(agents) > 0:\n",
    "    for agent in agents:\n",
    "        agent.age += 1\n",
    "\n",
    "        if agent.is_adult:\n",
    "            agent.chance_health_decay += HEALTH_DECAY_CHANCE_INCREASE\n",
    "\n",
    "        if agent.age >= ADULT_AGE and not agent.is_adult:\n",
    "            agent.is_adult = True\n",
    "            agent.health_decay = STARTING_HEALTH_DECAY\n",
    "            agent.chance_health_decay = STARTING_HEALTH_DECAY_CHANCE\n",
    "\n",
    "        if random.random() <= agent.chance_health_decay:\n",
    "            agent.health += agent.health_decay\n",
    "\n",
    "    for agent in [*agents]:\n",
    "        if agent.health <= 0:\n",
    "            death_ages.append(agent.age)\n",
    "            agents.remove(agent)\n",
    "\n",
    "death_ages_arr = np.array(death_ages)\n",
    "lifespan_mean = death_ages_arr.mean()\n",
    "lifespan_std = death_ages_arr.std()\n",
    "oldest_person = death_ages_arr.max()\n",
    "youngest_person = death_ages_arr.min()\n",
    "\n",
    "print(f\"Mean lifespan: {lifespan_mean} (+/- {lifespan_std}) (n={NUM_AGENTS})\")\n",
    "print(f\"Min: {youngest_person}, Max: {oldest_person}\")"
   ]
  }
 ],
 "metadata": {
  "kernelspec": {
   "display_name": "Python 3 (ipykernel)",
   "language": "python",
   "name": "python3"
  },
  "language_info": {
   "codemirror_mode": {
    "name": "ipython",
    "version": 3
   },
   "file_extension": ".py",
   "mimetype": "text/x-python",
   "name": "python",
   "nbconvert_exporter": "python",
   "pygments_lexer": "ipython3",
   "version": "3.11.4"
  }
 },
 "nbformat": 4,
 "nbformat_minor": 5
}
