{
 "cells": [
  {
   "cell_type": "markdown",
   "id": "06a60895-e80c-4ff5-a195-5b271dc363b1",
   "metadata": {},
   "source": [
    "# Character Generation\n",
    "\n",
    "This sample shows how characters are generated using GameObjectPrefab definitions. When defining characters user can create custom components, species types, genders, cultures, traits. Below a single character is generated from the prefab definition. We define a new trait for the character, register it with the simulation, and add it to the system."
   ]
  },
  {
   "cell_type": "code",
   "execution_count": 1,
   "id": "deb22b8c-620f-4d69-aaa4-d9aa6b5dae79",
   "metadata": {},
   "outputs": [
    {
     "ename": "SyntaxError",
     "evalue": "invalid syntax. Perhaps you forgot a comma? (1941549822.py, line 25)",
     "output_type": "error",
     "traceback": [
      "\u001b[1;36m  Cell \u001b[1;32mIn[1], line 25\u001b[1;36m\u001b[0m\n\u001b[1;33m    components={\u001b[0m\n\u001b[1;37m               ^\u001b[0m\n\u001b[1;31mSyntaxError\u001b[0m\u001b[1;31m:\u001b[0m invalid syntax. Perhaps you forgot a comma?\n"
     ]
    }
   ],
   "source": [
    "from neighborly.core.ecs import GameObjectPrefab\n",
    "from neighborly.components.species import SpeciesType, AgingConfig, ReproductionConfig\n",
    "from neighborly.components.culture import CultureType, MarriageConfig\n",
    "\n",
    "\n",
    "class Human(SpeciesType):\n",
    "    aging_config = AgingConfig(\n",
    "        adolescent_age=13,\n",
    "        young_adult_age=18,\n",
    "        adult_age=30,\n",
    "        senior_age=65,\n",
    "        lifespan=85\n",
    "    )\n",
    "    reproduction_config = ReproductionConfig()\n",
    "\n",
    "\n",
    "class BasicCulture(CultureType):\n",
    "    marriage_config = MarriageConfig(\n",
    "        spouse_prefabs=[\"human*\"]\n",
    "    )\n",
    "\n",
    "\n",
    "basic_human = GameObjectPrefab(\n",
    "    name=\"human:basic\",\n",
    "    components={\n",
    "        \"GameCharacter\": {\n",
    "            \"first_name\": \"#character::default::first_name::gender-neutral#\",\n",
    "            \"last_name\": \"#character::default::last_name#\"\n",
    "        },\n",
    "        \"Age\": {},\n",
    "        \"LifeStage\": {},\n",
    "        \"Traits\": {},\n",
    "        \"Statuses\": {},\n",
    "        \"Gender\": {\n",
    "            \"gender_type\": \"Male\"\n",
    "        },\n",
    "        \"Species\": {\n",
    "            \"species_type\": \"Human\"\n",
    "        },\n",
    "        \"Culture\": {\n",
    "            \"culture_type\": \"BasicCulture\"\n",
    "        },\n",
    "        \"RelationshipManager\": {},\n",
    "        \"Virtues\": {},\n",
    "        \"Traits\": {\n",
    "            \"traits\": [\n",
    "                \"CanAge\",\n",
    "                \"CanGetOthersPregnant\",\n",
    "            ]\n",
    "        },\n",
    "        \"FrequentedLocations\": {},\n",
    "        \"AIBrain\": {},\n",
    "        \"Goals\": {},\n",
    "        \"EventHistory\": {},\n",
    "        \"Roles\": {},\n",
    "        \"WorkHistory\": {}, \n",
    "    },\n",
    "    metadata={\n",
    "        \"species\": \"Human\",\n",
    "        \"culture\": \"BasicCulture\"\n",
    "        \"spawn_frequency\": 1\n",
    "    }\n",
    ")"
   ]
  },
  {
   "cell_type": "markdown",
   "id": "07ad4c8a-876e-40f2-8902-5613f026e61d",
   "metadata": {},
   "source": [
    "## Create the simulation and register content"
   ]
  },
  {
   "cell_type": "code",
   "execution_count": null,
   "id": "a8161ac1-b787-4555-911d-d8dfeddb2685",
   "metadata": {},
   "outputs": [],
   "source": [
    "from neighborly import Neighborly, NeighborlyConfig\n",
    "from neighborly.components.character import register_character_prefab\n",
    "\n",
    "sim = Neighborly(\n",
    "    NeighborlyConfig.parse_obj({\"plugins\": [\"neighborly.plugins.defaults.all\"]})\n",
    ")\n",
    "\n",
    "sim.world.gameobject_manager.register_component(Human)\n",
    "sim.world.gameobject_manager.register_component(BasicCulture)\n",
    "register_character_prefab(basic_human)"
   ]
  },
  {
   "cell_type": "markdown",
   "id": "91300b8a-c6d6-4298-9c19-9b7859ab3e8f",
   "metadata": {},
   "source": [
    "## Create and display an instance of the character GameObject "
   ]
  },
  {
   "cell_type": "code",
   "execution_count": null,
   "id": "dddb89a6-8858-4508-8542-0783ab610923",
   "metadata": {},
   "outputs": [],
   "source": [
    "from neighborly.utils.common import debug_print_gameobject\n",
    "\n",
    "character = sim.world.gameobject_manager.instantiate_prefab(\"human:basic\")\n",
    "\n",
    "debug_print_gameobject(character)"
   ]
  }
 ],
 "metadata": {
  "kernelspec": {
   "display_name": "Python 3 (ipykernel)",
   "language": "python",
   "name": "python3"
  },
  "language_info": {
   "codemirror_mode": {
    "name": "ipython",
    "version": 3
   },
   "file_extension": ".py",
   "mimetype": "text/x-python",
   "name": "python",
   "nbconvert_exporter": "python",
   "pygments_lexer": "ipython3",
   "version": "3.11.4"
  }
 },
 "nbformat": 4,
 "nbformat_minor": 5
}
